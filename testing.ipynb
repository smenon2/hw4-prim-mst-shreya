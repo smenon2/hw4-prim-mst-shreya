{
 "cells": [
  {
   "cell_type": "code",
   "execution_count": 43,
   "id": "fb8e7b39-d0d6-433b-b810-4430a3fb121e",
   "metadata": {},
   "outputs": [
    {
     "name": "stdout",
     "output_type": "stream",
     "text": [
      "The autoreload extension is already loaded. To reload it, use:\n",
      "  %reload_ext autoreload\n"
     ]
    }
   ],
   "source": [
    "%load_ext autoreload\n",
    "%autoreload 2\n",
    "from mst import *\n",
    "import numpy as np\n",
    "from sklearn.metrics import pairwise_distances"
   ]
  },
  {
   "cell_type": "code",
   "execution_count": 77,
   "id": "1d38871b-a6bc-4d9d-a192-88a51e569fe8",
   "metadata": {},
   "outputs": [
    {
     "data": {
      "text/plain": [
       "array([[0., 5., 0., 5.],\n",
       "       [5., 0., 1., 2.],\n",
       "       [0., 1., 0., 4.],\n",
       "       [5., 2., 4., 0.]])"
      ]
     },
     "execution_count": 77,
     "metadata": {},
     "output_type": "execute_result"
    }
   ],
   "source": [
    "file_path = './data/small.csv'\n",
    "g = Graph(file_path)\n",
    "g.adj_mat"
   ]
  },
  {
   "cell_type": "code",
   "execution_count": 65,
   "id": "305df594-747e-4253-a81f-b1c9893a3521",
   "metadata": {},
   "outputs": [
    {
     "name": "stdout",
     "output_type": "stream",
     "text": [
      "0\n"
     ]
    }
   ],
   "source": [
    "import heapq\n",
    "heap = [(0, (0,0))]\n",
    "u, (v, w) = heapq.heappop(heap)\n",
    "print(u)\n"
   ]
  },
  {
   "cell_type": "code",
   "execution_count": 55,
   "id": "0b68d402-ea43-4eaa-b565-a9742fa91def",
   "metadata": {},
   "outputs": [
    {
     "data": {
      "text/plain": [
       "array([[0., 5., 0., 5.],\n",
       "       [5., 0., 1., 2.],\n",
       "       [0., 1., 0., 4.],\n",
       "       [5., 2., 4., 0.]])"
      ]
     },
     "execution_count": 55,
     "metadata": {},
     "output_type": "execute_result"
    }
   ],
   "source": [
    "g.adj_mat"
   ]
  },
  {
   "cell_type": "code",
   "execution_count": 30,
   "id": "51d8e1c7-f1a9-40bb-9b0c-d1fd555dc353",
   "metadata": {},
   "outputs": [
    {
     "data": {
      "text/plain": [
       "(4, 4)"
      ]
     },
     "execution_count": 30,
     "metadata": {},
     "output_type": "execute_result"
    }
   ],
   "source": [
    "n = len(g.adj_mat)\n",
    "visited = set()\n",
    "start = 0\n",
    "heap = [(0,start)]\n",
    "mst = np.array([[0 for column in range(n)] for row in range(n)])\n",
    "g.adj_mat.shape"
   ]
  },
  {
   "cell_type": "code",
   "execution_count": 78,
   "id": "0de6a93c-f3a2-4132-85e3-1e501df80344",
   "metadata": {},
   "outputs": [
    {
     "name": "stdout",
     "output_type": "stream",
     "text": [
      "0\n",
      "4\n",
      "set()\n",
      "[[0. 0. 0. 0.]\n",
      " [0. 0. 0. 0.]\n",
      " [0. 0. 0. 0.]\n",
      " [0. 0. 0. 0.]]\n",
      "1\n",
      "3\n",
      "{0}\n",
      "[[0. 5. 0. 0.]\n",
      " [5. 0. 0. 0.]\n",
      " [0. 0. 0. 0.]\n",
      " [0. 0. 0. 0.]]\n",
      "0\n",
      "2\n",
      "3\n",
      "{0, 1}\n",
      "[[0. 5. 0. 0.]\n",
      " [5. 0. 1. 0.]\n",
      " [0. 1. 0. 0.]\n",
      " [0. 0. 0. 0.]]\n",
      "1\n",
      "3\n",
      "{0, 1, 2}\n",
      "[[0. 5. 0. 0.]\n",
      " [5. 0. 1. 2.]\n",
      " [0. 1. 0. 0.]\n",
      " [0. 2. 0. 0.]]\n",
      "0\n",
      "1\n",
      "2\n"
     ]
    }
   ],
   "source": [
    "g.construct_mst()"
   ]
  },
  {
   "cell_type": "code",
   "execution_count": 111,
   "id": "2f0cc907-d870-4d9c-82e7-1cb83b9794b3",
   "metadata": {},
   "outputs": [],
   "source": [
    "total = 0\n",
    "for i in range(g.mst.shape[0]):\n",
    "    for j in range(i+1):\n",
    "        total += g.mst[i, j]"
   ]
  },
  {
   "cell_type": "code",
   "execution_count": 73,
   "id": "0c27ff8f-c28b-48da-a5d0-e51ef7079da8",
   "metadata": {},
   "outputs": [
    {
     "data": {
      "text/plain": [
       "<bound method Graph.construct_mst of <mst.graph.Graph object at 0x7fa315907fa0>>"
      ]
     },
     "execution_count": 73,
     "metadata": {},
     "output_type": "execute_result"
    }
   ],
   "source": [
    "g.construct_mst"
   ]
  },
  {
   "cell_type": "code",
   "execution_count": 90,
   "id": "5968dce9-d5ac-4407-a5ba-b0e5af0a71fd",
   "metadata": {},
   "outputs": [
    {
     "data": {
      "text/plain": [
       "3.0"
      ]
     },
     "execution_count": 90,
     "metadata": {},
     "output_type": "execute_result"
    }
   ],
   "source": [
    "len(np.nonzero(g.mst)[1])/2"
   ]
  },
  {
   "cell_type": "code",
   "execution_count": 112,
   "id": "114bb87b-b67e-42ec-ba40-01b92426b5c9",
   "metadata": {},
   "outputs": [
    {
     "data": {
      "text/plain": [
       "16.0"
      ]
     },
     "execution_count": 112,
     "metadata": {},
     "output_type": "execute_result"
    }
   ],
   "source": [
    "total"
   ]
  },
  {
   "cell_type": "code",
   "execution_count": 92,
   "id": "3587f12e-82f6-48cc-8021-5a5150d80ad1",
   "metadata": {},
   "outputs": [
    {
     "data": {
      "text/plain": [
       "True"
      ]
     },
     "execution_count": 92,
     "metadata": {},
     "output_type": "execute_result"
    }
   ],
   "source": [
    "np.allclose(g.mst, g.mst.T, rtol=1e-05, atol=1e-08)"
   ]
  },
  {
   "cell_type": "code",
   "execution_count": 93,
   "id": "79c61566-0087-421b-9bb5-40d3b9c737f0",
   "metadata": {},
   "outputs": [],
   "source": [
    "    adj_matrix = np.array([\n",
    "        [0, 2, 0, 6, 0],\n",
    "        [2, 0, 3, 8, 5],\n",
    "        [0, 3, 0, 0, 7],\n",
    "        [6, 8, 0, 0, 9],\n",
    "        [0, 5, 7, 9, 0]\n",
    "    ])\n",
    "    g = Graph(adj_matrix)\n",
    "    g.construct_mst()"
   ]
  },
  {
   "cell_type": "code",
   "execution_count": 95,
   "id": "7dab5990-d65a-4c56-a761-087876ac2e60",
   "metadata": {},
   "outputs": [
    {
     "data": {
      "text/plain": [
       "4.0"
      ]
     },
     "execution_count": 95,
     "metadata": {},
     "output_type": "execute_result"
    }
   ],
   "source": [
    "len(np.nonzero(g.mst)[1])/2"
   ]
  },
  {
   "cell_type": "code",
   "execution_count": 99,
   "id": "eb81118f-ed4f-4f7c-a53a-d715874e491e",
   "metadata": {},
   "outputs": [
    {
     "data": {
      "text/plain": [
       "(5,)"
      ]
     },
     "execution_count": 99,
     "metadata": {},
     "output_type": "execute_result"
    }
   ],
   "source": [
    "g.mst[1].shape"
   ]
  },
  {
   "cell_type": "code",
   "execution_count": 102,
   "id": "5327e344-f5f1-48ef-993b-55651bf6094c",
   "metadata": {},
   "outputs": [],
   "source": [
    "count = 0\n",
    "for i in range(len(g.mst)):\n",
    "    if g.mst[i] is not np.zeros(len(g.adj_mat)):\n",
    "        count += 1"
   ]
  },
  {
   "cell_type": "code",
   "execution_count": 103,
   "id": "96764f76-d5d1-499a-b654-513bd1e5b236",
   "metadata": {},
   "outputs": [
    {
     "data": {
      "text/plain": [
       "5"
      ]
     },
     "execution_count": 103,
     "metadata": {},
     "output_type": "execute_result"
    }
   ],
   "source": [
    "count"
   ]
  },
  {
   "cell_type": "code",
   "execution_count": 114,
   "id": "0a7feb85-8498-4416-bf54-2a72bcad561c",
   "metadata": {},
   "outputs": [
    {
     "name": "stdout",
     "output_type": "stream",
     "text": [
      "[[0 1 1 1 1]\n",
      " [1 1 0 0 0]\n",
      " [1 0 0 1 0]\n",
      " [1 0 1 0 0]\n",
      " [1 0 0 0 0]]\n"
     ]
    }
   ],
   "source": [
    "import heapq\n",
    "import numpy as np\n",
    "\n",
    "def prim(adj_matrix, start):\n",
    "    n = len(adj_matrix)\n",
    "    dist = [float('inf') for _ in range(n)]\n",
    "    dist[start] = 0\n",
    "    heap = [(0, start)]\n",
    "    mst = np.zeros((n, n), dtype=int)\n",
    "    cost = 0\n",
    "\n",
    "    while heap:\n",
    "        u_dist, u = heapq.heappop(heap)\n",
    "        if u_dist > dist[u]:\n",
    "            continue\n",
    "        for v, v_dist in enumerate(adj_matrix[u]):\n",
    "            if v_dist < dist[v]:\n",
    "                dist[v] = v_dist\n",
    "                heapq.heappush(heap, (v_dist, v))\n",
    "                mst[u][v] = mst[v][u] = 1\n",
    "                cost += adj_matrix[u][v]\n",
    "\n",
    "    return mst,cost\n",
    "\n",
    "# example usage\n",
    "adj_matrix = np.array([\n",
    "    [0, 2, 0, 6, 0],\n",
    "    [2, 0, 3, 8, 5],\n",
    "    [0, 3, 0, 0, 7],\n",
    "    [6, 8, 0, 0, 9],\n",
    "    [0, 5, 7, 9, 0]\n",
    "])\n",
    "mst,cost = prim(adj_matrix, 0)\n",
    "print(mst)"
   ]
  },
  {
   "cell_type": "code",
   "execution_count": 116,
   "id": "f3e61fee-b128-4941-a2a9-874efdb8abd7",
   "metadata": {},
   "outputs": [
    {
     "data": {
      "text/plain": [
       "8"
      ]
     },
     "execution_count": 116,
     "metadata": {},
     "output_type": "execute_result"
    }
   ],
   "source": [
    "cost"
   ]
  },
  {
   "cell_type": "code",
   "execution_count": 113,
   "id": "57b63a1d-95d7-4764-a1ea-ade575151c42",
   "metadata": {},
   "outputs": [
    {
     "data": {
      "text/plain": [
       "16"
      ]
     },
     "execution_count": 113,
     "metadata": {},
     "output_type": "execute_result"
    }
   ],
   "source": [
    "2 + 6 + 2 +6 "
   ]
  },
  {
   "cell_type": "code",
   "execution_count": 123,
   "id": "e2a56e0a-4379-4d03-a967-681f77b35e41",
   "metadata": {},
   "outputs": [],
   "source": [
    "def is_connected(adj_matrix):\n",
    "    visited = [False for i in range(len(adj_matrix))]\n",
    "    queue = []\n",
    "\n",
    "    start = 0  # arbitrary starting node\n",
    "    queue.append(start)\n",
    "    visited[start] = True\n",
    "\n",
    "    while queue:\n",
    "        node = queue.pop(0)\n",
    "        for i, connected in enumerate(adj_matrix[node]):\n",
    "            if connected and not visited[i]:\n",
    "                print(connected)\n",
    "                queue.append(i)\n",
    "                visited[i] = True\n",
    "\n",
    "    return all(visited)"
   ]
  },
  {
   "cell_type": "code",
   "execution_count": 124,
   "id": "e8abec17-13ec-4232-918e-22d6f4c50d54",
   "metadata": {},
   "outputs": [
    {
     "name": "stdout",
     "output_type": "stream",
     "text": [
      "2\n",
      "6\n",
      "3\n",
      "5\n"
     ]
    },
    {
     "data": {
      "text/plain": [
       "True"
      ]
     },
     "execution_count": 124,
     "metadata": {},
     "output_type": "execute_result"
    }
   ],
   "source": [
    "is_connected(adj_matrix)"
   ]
  },
  {
   "cell_type": "code",
   "execution_count": 128,
   "id": "9227a606-8e4b-4ae9-85a0-43374d8955ff",
   "metadata": {},
   "outputs": [
    {
     "name": "stdout",
     "output_type": "stream",
     "text": [
      "0 2\n",
      "2 3\n",
      "3 8\n",
      "4 5\n"
     ]
    }
   ],
   "source": [
    "for i, connected in enumerate(adj_matrix[1]):\n",
    "    if connected:\n",
    "        print(i, connected)"
   ]
  },
  {
   "cell_type": "code",
   "execution_count": null,
   "id": "0c2097d0-4712-4bb3-b8ec-141a1a60d1f2",
   "metadata": {},
   "outputs": [],
   "source": []
  }
 ],
 "metadata": {
  "kernelspec": {
   "display_name": "Python [conda env:BMI203]",
   "language": "python",
   "name": "conda-env-BMI203-py"
  },
  "language_info": {
   "codemirror_mode": {
    "name": "ipython",
    "version": 3
   },
   "file_extension": ".py",
   "mimetype": "text/x-python",
   "name": "python",
   "nbconvert_exporter": "python",
   "pygments_lexer": "ipython3",
   "version": "3.10.8"
  },
  "toc-showcode": false
 },
 "nbformat": 4,
 "nbformat_minor": 5
}
