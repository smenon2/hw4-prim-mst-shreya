{
 "cells": [
  {
   "cell_type": "code",
   "execution_count": 1,
   "id": "fb8e7b39-d0d6-433b-b810-4430a3fb121e",
   "metadata": {},
   "outputs": [],
   "source": [
    "from mst import *"
   ]
  },
  {
   "cell_type": "code",
   "execution_count": null,
   "id": "1d38871b-a6bc-4d9d-a192-88a51e569fe8",
   "metadata": {},
   "outputs": [],
   "source": []
  }
 ],
 "metadata": {
  "kernelspec": {
   "display_name": "Python [conda env:BMI203]",
   "language": "python",
   "name": "conda-env-BMI203-py"
  },
  "language_info": {
   "codemirror_mode": {
    "name": "ipython",
    "version": 3
   },
   "file_extension": ".py",
   "mimetype": "text/x-python",
   "name": "python",
   "nbconvert_exporter": "python",
   "pygments_lexer": "ipython3",
   "version": "3.10.8"
  }
 },
 "nbformat": 4,
 "nbformat_minor": 5
}
